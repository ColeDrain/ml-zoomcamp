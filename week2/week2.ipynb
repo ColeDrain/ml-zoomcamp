{
 "cells": [
  {
   "cell_type": "code",
   "execution_count": 1,
   "id": "7c63b1f2",
   "metadata": {},
   "outputs": [],
   "source": [
    "import pandas as pd\n",
    "import numpy as np\n",
    "\n",
    "import seaborn as sns\n",
    "from matplotlib import pyplot as plt\n",
    "%matplotlib inline"
   ]
  },
  {
   "cell_type": "code",
   "execution_count": 132,
   "id": "f00691f5",
   "metadata": {},
   "outputs": [],
   "source": [
    "df = pd.read_csv('housing.csv')"
   ]
  },
  {
   "cell_type": "code",
   "execution_count": 133,
   "id": "f62c3819",
   "metadata": {},
   "outputs": [
    {
     "data": {
      "text/plain": [
       "(20640, 10)"
      ]
     },
     "execution_count": 133,
     "metadata": {},
     "output_type": "execute_result"
    }
   ],
   "source": [
    "df.shape"
   ]
  },
  {
   "cell_type": "code",
   "execution_count": 5,
   "id": "d8db10bc",
   "metadata": {},
   "outputs": [
    {
     "data": {
      "text/html": [
       "<div>\n",
       "<style scoped>\n",
       "    .dataframe tbody tr th:only-of-type {\n",
       "        vertical-align: middle;\n",
       "    }\n",
       "\n",
       "    .dataframe tbody tr th {\n",
       "        vertical-align: top;\n",
       "    }\n",
       "\n",
       "    .dataframe thead th {\n",
       "        text-align: right;\n",
       "    }\n",
       "</style>\n",
       "<table border=\"1\" class=\"dataframe\">\n",
       "  <thead>\n",
       "    <tr style=\"text-align: right;\">\n",
       "      <th></th>\n",
       "      <th>longitude</th>\n",
       "      <th>latitude</th>\n",
       "      <th>housing_median_age</th>\n",
       "      <th>total_rooms</th>\n",
       "      <th>total_bedrooms</th>\n",
       "      <th>population</th>\n",
       "      <th>households</th>\n",
       "      <th>median_income</th>\n",
       "      <th>median_house_value</th>\n",
       "      <th>ocean_proximity</th>\n",
       "    </tr>\n",
       "  </thead>\n",
       "  <tbody>\n",
       "    <tr>\n",
       "      <th>12567</th>\n",
       "      <td>-121.42</td>\n",
       "      <td>38.54</td>\n",
       "      <td>18.0</td>\n",
       "      <td>2525.0</td>\n",
       "      <td>501.0</td>\n",
       "      <td>1726.0</td>\n",
       "      <td>468.0</td>\n",
       "      <td>2.3980</td>\n",
       "      <td>87600.0</td>\n",
       "      <td>INLAND</td>\n",
       "    </tr>\n",
       "    <tr>\n",
       "      <th>18349</th>\n",
       "      <td>-122.17</td>\n",
       "      <td>37.43</td>\n",
       "      <td>24.0</td>\n",
       "      <td>3924.0</td>\n",
       "      <td>1142.0</td>\n",
       "      <td>7174.0</td>\n",
       "      <td>950.0</td>\n",
       "      <td>4.0972</td>\n",
       "      <td>387500.0</td>\n",
       "      <td>NEAR OCEAN</td>\n",
       "    </tr>\n",
       "    <tr>\n",
       "      <th>15461</th>\n",
       "      <td>-117.24</td>\n",
       "      <td>33.17</td>\n",
       "      <td>4.0</td>\n",
       "      <td>9998.0</td>\n",
       "      <td>1874.0</td>\n",
       "      <td>3925.0</td>\n",
       "      <td>1672.0</td>\n",
       "      <td>4.2826</td>\n",
       "      <td>237500.0</td>\n",
       "      <td>&lt;1H OCEAN</td>\n",
       "    </tr>\n",
       "    <tr>\n",
       "      <th>3750</th>\n",
       "      <td>-118.38</td>\n",
       "      <td>34.18</td>\n",
       "      <td>27.0</td>\n",
       "      <td>4834.0</td>\n",
       "      <td>1527.0</td>\n",
       "      <td>3847.0</td>\n",
       "      <td>1432.0</td>\n",
       "      <td>2.1449</td>\n",
       "      <td>165300.0</td>\n",
       "      <td>&lt;1H OCEAN</td>\n",
       "    </tr>\n",
       "    <tr>\n",
       "      <th>7778</th>\n",
       "      <td>-118.08</td>\n",
       "      <td>33.91</td>\n",
       "      <td>30.0</td>\n",
       "      <td>3259.0</td>\n",
       "      <td>942.0</td>\n",
       "      <td>2744.0</td>\n",
       "      <td>895.0</td>\n",
       "      <td>2.8608</td>\n",
       "      <td>165600.0</td>\n",
       "      <td>&lt;1H OCEAN</td>\n",
       "    </tr>\n",
       "  </tbody>\n",
       "</table>\n",
       "</div>"
      ],
      "text/plain": [
       "       longitude  latitude  housing_median_age  total_rooms  total_bedrooms  \\\n",
       "12567    -121.42     38.54                18.0       2525.0           501.0   \n",
       "18349    -122.17     37.43                24.0       3924.0          1142.0   \n",
       "15461    -117.24     33.17                 4.0       9998.0          1874.0   \n",
       "3750     -118.38     34.18                27.0       4834.0          1527.0   \n",
       "7778     -118.08     33.91                30.0       3259.0           942.0   \n",
       "\n",
       "       population  households  median_income  median_house_value  \\\n",
       "12567      1726.0       468.0         2.3980             87600.0   \n",
       "18349      7174.0       950.0         4.0972            387500.0   \n",
       "15461      3925.0      1672.0         4.2826            237500.0   \n",
       "3750       3847.0      1432.0         2.1449            165300.0   \n",
       "7778       2744.0       895.0         2.8608            165600.0   \n",
       "\n",
       "      ocean_proximity  \n",
       "12567          INLAND  \n",
       "18349      NEAR OCEAN  \n",
       "15461       <1H OCEAN  \n",
       "3750        <1H OCEAN  \n",
       "7778        <1H OCEAN  "
      ]
     },
     "execution_count": 5,
     "metadata": {},
     "output_type": "execute_result"
    }
   ],
   "source": [
    "df.sample(5)"
   ]
  },
  {
   "cell_type": "markdown",
   "id": "cf71ef11",
   "metadata": {},
   "source": [
    "## Number of missing values"
   ]
  },
  {
   "cell_type": "code",
   "execution_count": 134,
   "id": "89dae008",
   "metadata": {},
   "outputs": [
    {
     "data": {
      "text/plain": [
       "longitude               0\n",
       "latitude                0\n",
       "housing_median_age      0\n",
       "total_rooms             0\n",
       "total_bedrooms        207\n",
       "population              0\n",
       "households              0\n",
       "median_income           0\n",
       "median_house_value      0\n",
       "ocean_proximity         0\n",
       "dtype: int64"
      ]
     },
     "execution_count": 134,
     "metadata": {},
     "output_type": "execute_result"
    }
   ],
   "source": [
    "df.isna().sum()"
   ]
  },
  {
   "cell_type": "markdown",
   "id": "17dab86a",
   "metadata": {},
   "source": [
    "## Median for population"
   ]
  },
  {
   "cell_type": "code",
   "execution_count": 135,
   "id": "67a9dccf",
   "metadata": {},
   "outputs": [
    {
     "data": {
      "text/plain": [
       "1166.0"
      ]
     },
     "execution_count": 135,
     "metadata": {},
     "output_type": "execute_result"
    }
   ],
   "source": [
    "df['population'].median()"
   ]
  },
  {
   "cell_type": "markdown",
   "id": "a14180fd",
   "metadata": {},
   "source": [
    "## Data Cleaning"
   ]
  },
  {
   "cell_type": "markdown",
   "id": "91773767",
   "metadata": {},
   "source": [
    "## EDA"
   ]
  },
  {
   "cell_type": "code",
   "execution_count": 136,
   "id": "dd455f85",
   "metadata": {},
   "outputs": [
    {
     "data": {
      "image/png": "[encoded data removed]",
      "text/plain": [
       "<Figure size 600x400 with 1 Axes>"
      ]
     },
     "metadata": {},
     "output_type": "display_data"
    }
   ],
   "source": [
    "plt.figure(figsize=(6, 4))\n",
    "\n",
    "sns.histplot(df.median_house_value, bins=40)\n",
    "plt.ylabel('Frequency')\n",
    "plt.xlabel('Median House Value')\n",
    "plt.title('Distribution of House Value')\n",
    "\n",
    "plt.show()"
   ]
  },
  {
   "cell_type": "markdown",
   "id": "68778388",
   "metadata": {},
   "source": [
    "## Validation Framework"
   ]
  },
  {
   "cell_type": "code",
   "execution_count": 137,
   "id": "a0f4892e",
   "metadata": {},
   "outputs": [],
   "source": [
    "np.random.seed(42)\n",
    "\n",
    "n = len(df)\n",
    "\n",
    "n_val = int(0.2 * n)\n",
    "n_test = int(0.2 * n)\n",
    "n_train = n - (n_val + n_test)\n",
    "\n",
    "idx = np.arange(n)\n",
    "np.random.shuffle(idx)\n",
    "\n",
    "df_shuffled = df.iloc[idx]\n",
    "\n",
    "df_train = df_shuffled.iloc[:n_train].copy()\n",
    "df_val = df_shuffled.iloc[n_train:n_train+n_val].copy()\n",
    "df_test = df_shuffled.iloc[n_train+n_val:].copy()"
   ]
  },
  {
   "cell_type": "code",
   "execution_count": 138,
   "id": "b9169739",
   "metadata": {},
   "outputs": [],
   "source": [
    "y_train_orig = df_train.median_house_value.values\n",
    "y_val_orig = df_val.median_house_value.values\n",
    "y_test_orig = df_test.median_house_value.values\n",
    "\n",
    "y_train = np.log1p(df_train.median_house_value.values)\n",
    "y_val = np.log1p(df_val.median_house_value.values)\n",
    "y_test = np.log1p(df_test.median_house_value.values)\n",
    "\n",
    "del df_train['median_house_value']\n",
    "del df_val['median_house_value']\n",
    "del df_test['median_house_value']"
   ]
  },
  {
   "cell_type": "markdown",
   "id": "3ba9f2a8",
   "metadata": {},
   "source": [
    "## Linear Regression"
   ]
  },
  {
   "cell_type": "code",
   "execution_count": 139,
   "id": "29e37464",
   "metadata": {},
   "outputs": [],
   "source": [
    "def train_linear_regression(X, y):\n",
    "    ones = np.ones(X.shape[0])\n",
    "    X = np.column_stack([ones, X])\n",
    "\n",
    "    XTX = X.T.dot(X)\n",
    "    XTX_inv = np.linalg.inv(XTX)\n",
    "    w = XTX_inv.dot(X.T).dot(y)\n",
    "    \n",
    "    return w[0], w[1:]"
   ]
  },
  {
   "cell_type": "markdown",
   "id": "3d027c40",
   "metadata": {},
   "source": [
    "## Baseline solution"
   ]
  },
  {
   "cell_type": "code",
   "execution_count": 20,
   "id": "c8cc8902",
   "metadata": {},
   "outputs": [
    {
     "data": {
      "text/plain": [
       "longitude             float64\n",
       "latitude              float64\n",
       "housing_median_age    float64\n",
       "total_rooms           float64\n",
       "total_bedrooms        float64\n",
       "population            float64\n",
       "households            float64\n",
       "median_income         float64\n",
       "median_house_value    float64\n",
       "ocean_proximity        object\n",
       "dtype: object"
      ]
     },
     "execution_count": 20,
     "metadata": {},
     "output_type": "execute_result"
    }
   ],
   "source": [
    "df.dtypes"
   ]
  },
  {
   "cell_type": "code",
   "execution_count": 103,
   "id": "f3137ab4",
   "metadata": {},
   "outputs": [],
   "source": [
    "base = ['longitude', 'latitude', 'housing_median_age', 'total_rooms', 'total_bedrooms', 'population', 'households', 'median_income']"
   ]
  },
  {
   "cell_type": "code",
   "execution_count": 140,
   "id": "38c21ac0",
   "metadata": {},
   "outputs": [],
   "source": [
    "def prepare_X(df, fill_value):\n",
    "    df = df.copy()\n",
    "    df_num = df[base]\n",
    "    df_num = df_num.fillna(fill_value)\n",
    "    X = df_num.values\n",
    "    return X"
   ]
  },
  {
   "cell_type": "code",
   "execution_count": 148,
   "id": "835d206d",
   "metadata": {},
   "outputs": [],
   "source": [
    "X_train = prepare_X(df_train, df_train['total_bedrooms'].mean())\n",
    "w_0, w = train_linear_regression(X_train, y_train)"
   ]
  },
  {
   "cell_type": "code",
   "execution_count": 150,
   "id": "88a85142",
   "metadata": {},
   "outputs": [
    {
     "data": {
      "text/plain": [
       "(-11.759590872504003,\n",
       " array([-2.76809637e-01, -2.82182103e-01,  2.93033801e-03, -1.48543785e-05,\n",
       "         2.48054046e-04, -2.03763456e-04,  4.87004092e-04,  1.73086593e-01]))"
      ]
     },
     "execution_count": 150,
     "metadata": {},
     "output_type": "execute_result"
    }
   ],
   "source": [
    "w_0, w"
   ]
  },
  {
   "cell_type": "code",
   "execution_count": 151,
   "id": "e50058c9",
   "metadata": {},
   "outputs": [],
   "source": [
    "y_pred = w_0 + X_train.dot(w)"
   ]
  },
  {
   "cell_type": "code",
   "execution_count": 152,
   "id": "12e5de54",
   "metadata": {},
   "outputs": [
    {
     "data": {
      "text/plain": [
       "array([11.37346084, 11.97238956, 12.49872828, ..., 11.53551178,\n",
       "       11.92115877, 12.54500627])"
      ]
     },
     "execution_count": 152,
     "metadata": {},
     "output_type": "execute_result"
    }
   ],
   "source": [
    "y_pred"
   ]
  },
  {
   "cell_type": "code",
   "execution_count": 145,
   "id": "cb0aa10a",
   "metadata": {},
   "outputs": [
    {
     "data": {
      "image/png": "[encoded data removed]",
      "text/plain": [
       "<Figure size 600x400 with 1 Axes>"
      ]
     },
     "metadata": {},
     "output_type": "display_data"
    }
   ],
   "source": [
    "plt.figure(figsize=(6, 4))\n",
    "\n",
    "sns.histplot(y_train, label='target', color='#222222', alpha=0.6, bins=40)\n",
    "sns.histplot(y_pred, label='prediction', color='#aaaaaa', alpha=0.8, bins=40)\n",
    "\n",
    "plt.legend()\n",
    "\n",
    "plt.ylabel('Frequency')\n",
    "plt.xlabel('Median Housing Value')\n",
    "plt.title('Predictions vs actual distribution')\n",
    "\n",
    "plt.show()"
   ]
  },
  {
   "cell_type": "markdown",
   "id": "7f7bb988",
   "metadata": {},
   "source": [
    "## Question 3"
   ]
  },
  {
   "cell_type": "code",
   "execution_count": 154,
   "id": "024c21d4",
   "metadata": {},
   "outputs": [],
   "source": [
    "def rmse(y, y_pred):\n",
    "    error = y_pred - y\n",
    "    mse = (error ** 2).mean()\n",
    "    return np.sqrt(mse)"
   ]
  },
  {
   "cell_type": "code",
   "execution_count": 158,
   "id": "efce130d",
   "metadata": {},
   "outputs": [],
   "source": [
    "X_val = prepare_X(df_val, 0)\n",
    "y_pred = w_0 + X_val.dot(w)"
   ]
  },
  {
   "cell_type": "code",
   "execution_count": 156,
   "id": "27c77415",
   "metadata": {},
   "outputs": [],
   "source": [
    "rmse_val = rmse(y_val, y_pred)"
   ]
  },
  {
   "cell_type": "code",
   "execution_count": 157,
   "id": "e4f1547a",
   "metadata": {},
   "outputs": [
    {
     "name": "stdout",
     "output_type": "stream",
     "text": [
      "0.33\n"
     ]
    }
   ],
   "source": [
    "## For zero fill\n",
    "print(round(rmse_val, 2))"
   ]
  },
  {
   "cell_type": "code",
   "execution_count": 158,
   "id": "ad71b771",
   "metadata": {},
   "outputs": [],
   "source": [
    "col_mean = df_train['total_bedrooms'].mean()\n",
    "X_val = prepare_X(df_val, df_train['total_bedrooms'].mean())\n",
    "y_pred = w_0 + X_val.dot(w)"
   ]
  },
  {
   "cell_type": "code",
   "execution_count": 156,
   "id": "1e9af548",
   "metadata": {},
   "outputs": [],
   "source": [
    "rmse_val = rmse(y_val, y_pred)"
   ]
  },
  {
   "cell_type": "code",
   "execution_count": 159,
   "id": "ea1c1a34",
   "metadata": {},
   "outputs": [
    {
     "name": "stdout",
     "output_type": "stream",
     "text": [
      "0.33\n"
     ]
    }
   ],
   "source": [
    "## For mean fill\n",
    "print(round(rmse_val, 2))"
   ]
  },
  {
   "cell_type": "markdown",
   "id": "bf0a7a31",
   "metadata": {},
   "source": [
    "## Question 4"
   ]
  },
  {
   "cell_type": "code",
   "execution_count": 160,
   "id": "6d8baebd",
   "metadata": {},
   "outputs": [],
   "source": [
    "def train_linear_regression_reg(X, y, r=0.0):\n",
    "    ones = np.ones(X.shape[0])\n",
    "    X = np.column_stack([ones, X])\n",
    "\n",
    "    XTX = X.T.dot(X)\n",
    "    reg = r * np.eye(XTX.shape[0])\n",
    "    XTX = XTX + reg\n",
    "\n",
    "    XTX_inv = np.linalg.inv(XTX)\n",
    "    w = XTX_inv.dot(X.T).dot(y)\n",
    "    \n",
    "    return w[0], w[1:]"
   ]
  },
  {
   "cell_type": "code",
   "execution_count": 161,
   "id": "caabfd62",
   "metadata": {},
   "outputs": [],
   "source": [
    "X_train = prepare_X(df_train, 0)\n",
    "X_val = prepare_X(df_val, 0)"
   ]
  },
  {
   "cell_type": "code",
   "execution_count": 162,
   "id": "a412accb",
   "metadata": {},
   "outputs": [
    {
     "name": "stdout",
     "output_type": "stream",
     "text": [
      "0.33\n",
      "0.33\n",
      "0.33\n",
      "0.33\n",
      "0.33\n",
      "0.33\n",
      "0.33\n",
      "0.34\n",
      "0.34\n"
     ]
    }
   ],
   "source": [
    "for r in [0, 0.000001, 0.0001, 0.001, 0.01, 0.1, 1, 5, 10]:\n",
    "    w_0, w = train_linear_regression_reg(X_train, y_train, r=r)\n",
    "    y_pred = w_0 + X_val.dot(w)\n",
    "    rmse_val = rmse(y_val, y_pred)\n",
    "    print('%.2f' % (rmse_val))"
   ]
  },
  {
   "cell_type": "markdown",
   "id": "ede40760",
   "metadata": {},
   "source": [
    "## Question 5"
   ]
  },
  {
   "cell_type": "code",
   "execution_count": 165,
   "id": "49c037d1",
   "metadata": {},
   "outputs": [
    {
     "name": "stdout",
     "output_type": "stream",
     "text": [
      "[0.33884304805313376, 0.33623872559560825, 0.33209123188418516, 0.3405153609036827, 0.33890240665736754, 0.3434866725720329, 0.3451980953099613, 0.339598992741159, 0.3466230873191729, 0.33659261241794036]\n",
      "0.004\n"
     ]
    }
   ],
   "source": [
    "seed_list = [0, 1, 2, 3, 4, 5, 6, 7, 8, 9]\n",
    "scores = []\n",
    "for s in seed_list:\n",
    "    np.random.seed(s)\n",
    "\n",
    "    n = len(df)\n",
    "\n",
    "    n_val = int(0.2 * n)\n",
    "    n_test = int(0.2 * n)\n",
    "    n_train = n - (n_val + n_test)\n",
    "\n",
    "    idx = np.arange(n)\n",
    "    np.random.shuffle(idx)\n",
    "\n",
    "    df_shuffled = df.iloc[idx]\n",
    "\n",
    "    df_train = df_shuffled.iloc[:n_train].copy()\n",
    "    df_val = df_shuffled.iloc[n_train:n_train+n_val].copy()\n",
    "    df_test = df_shuffled.iloc[n_train+n_val:].copy()\n",
    "    \n",
    "    y_train_orig = df_train.median_house_value.values\n",
    "    y_val_orig = df_val.median_house_value.values\n",
    "    y_test_orig = df_test.median_house_value.values\n",
    "\n",
    "    y_train = np.log1p(df_train.median_house_value.values)\n",
    "    y_val = np.log1p(df_val.median_house_value.values)\n",
    "    y_test = np.log1p(df_test.median_house_value.values)\n",
    "\n",
    "    del df_train['median_house_value']\n",
    "    del df_val['median_house_value']\n",
    "    del df_test['median_house_value']\n",
    "    \n",
    "    X_train = prepare_X(df_train, fill_value=0)\n",
    "    w_0, w = train_linear_regression(X_train, y_train)\n",
    "    \n",
    "    X_val = prepare_X(df_val, fill_value=0)\n",
    "    y_pred = w_0 + X_val.dot(w)\n",
    "    \n",
    "    rmse_val = rmse(y_val, y_pred)\n",
    "    \n",
    "    scores.append(rmse_val)\n",
    "    \n",
    "print(scores)\n",
    "print(round(np.std(scores), 3))"
   ]
  },
  {
   "cell_type": "markdown",
   "id": "26b5277e",
   "metadata": {},
   "source": [
    "## Question 6"
   ]
  },
  {
   "cell_type": "code",
   "execution_count": 166,
   "id": "2e7356ce",
   "metadata": {},
   "outputs": [
    {
     "name": "stdout",
     "output_type": "stream",
     "text": [
      "0.341452985043982\n"
     ]
    }
   ],
   "source": [
    "np.random.seed(9)\n",
    "\n",
    "n = len(df)\n",
    "\n",
    "n_val = int(0.2 * n)\n",
    "n_test = int(0.2 * n)\n",
    "n_train = n - (n_val + n_test)\n",
    "\n",
    "idx = np.arange(n)\n",
    "np.random.shuffle(idx)\n",
    "\n",
    "df_shuffled = df.iloc[idx]\n",
    "\n",
    "df_train = df_shuffled.iloc[:n_train].copy()\n",
    "df_val = df_shuffled.iloc[n_train:n_train+n_val].copy()\n",
    "df_test = df_shuffled.iloc[n_train+n_val:].copy()\n",
    "\n",
    "y_train_orig = df_train.median_house_value.values\n",
    "y_val_orig = df_val.median_house_value.values\n",
    "y_test_orig = df_test.median_house_value.values\n",
    "\n",
    "y_train = np.log1p(df_train.median_house_value.values)\n",
    "y_val = np.log1p(df_val.median_house_value.values)\n",
    "y_test = np.log1p(df_test.median_house_value.values)\n",
    "\n",
    "del df_train['median_house_value']\n",
    "del df_val['median_house_value']\n",
    "del df_test['median_house_value']\n",
    "\n",
    "df_full_train = pd.concat([df_train, df_val])\n",
    "df_full_train.reset_index(drop=True, inplace=True)\n",
    "\n",
    "x_full_train = prepare_X(df_full_train, 0)\n",
    "y_full_train = np.concatenate([y_train, y_val])\n",
    "\n",
    "w0, w = train_linear_regression_reg(x_full_train, y_full_train, r=0.001)\n",
    "\n",
    "X_val = prepare_X(df_val, fill_value=0)\n",
    "y_pred = w_0 + X_val.dot(w)\n",
    "    \n",
    "rmse_val = rmse(y_val, y_pred)\n",
    "print(rmse_val)"
   ]
  }
 ],
 "metadata": {
  "kernelspec": {
   "display_name": "Python 3 (ipykernel)",
   "language": "python",
   "name": "python3"
  },
  "language_info": {
   "codemirror_mode": {
    "name": "ipython",
    "version": 3
   },
   "file_extension": ".py",
   "mimetype": "text/x-python",
   "name": "python",
   "nbconvert_exporter": "python",
   "pygments_lexer": "ipython3",
   "version": "3.9.13"
  }
 },
 "nbformat": 4,
 "nbformat_minor": 5
}
